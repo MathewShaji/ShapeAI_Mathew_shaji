{
  "nbformat": 4,
  "nbformat_minor": 0,
  "metadata": {
    "colab": {
      "name": "Mathew_Shaji.ipynb",
      "provenance": [],
      "collapsed_sections": []
    },
    "kernelspec": {
      "name": "python3",
      "display_name": "Python 3"
    },
    "language_info": {
      "name": "python"
    }
  },
  "cells": [
    {
      "cell_type": "code",
      "metadata": {
        "id": "siFVZK5vDvry"
      },
      "source": [
        "from keras.datasets import mnist\n",
        "data = mnist.load_data()\n"
      ],
      "execution_count": 10,
      "outputs": []
    },
    {
      "cell_type": "code",
      "metadata": {
        "id": "4gn9UozvD2k-"
      },
      "source": [
        "((X_train, y_train),(X_test, y_test))= data"
      ],
      "execution_count": 3,
      "outputs": []
    },
    {
      "cell_type": "code",
      "metadata": {
        "colab": {
          "base_uri": "https://localhost:8080/"
        },
        "id": "74mcNYvtEW3F",
        "outputId": "6506ef8b-bf7a-4c3f-e81a-b6e4d5044273"
      },
      "source": [
        "X_train[0].shape"
      ],
      "execution_count": 11,
      "outputs": [
        {
          "output_type": "execute_result",
          "data": {
            "text/plain": [
              "(784,)"
            ]
          },
          "metadata": {
            "tags": []
          },
          "execution_count": 11
        }
      ]
    },
    {
      "cell_type": "code",
      "metadata": {
        "id": "-di5HFiPGvQj"
      },
      "source": [
        "X_train = X_train.reshape((X_train.shape[0],28*28)).astype('float32')\n",
        "X_test = X_test.reshape((X_test.shape[0],28*28)).astype('float32')"
      ],
      "execution_count": 12,
      "outputs": []
    },
    {
      "cell_type": "code",
      "metadata": {
        "id": "coBiAVTHIHVv"
      },
      "source": [
        "X_train = X_train / 255\n",
        "X_test = X_test / 255"
      ],
      "execution_count": 13,
      "outputs": []
    },
    {
      "cell_type": "code",
      "metadata": {
        "colab": {
          "base_uri": "https://localhost:8080/"
        },
        "id": "tZP4k_iZJhdE",
        "outputId": "7b8922dd-9bda-412d-8c92-afec3920d957"
      },
      "source": [
        "from keras.utils import np_utils\n",
        "print(y_test.shape)\n",
        "y_train = np_utils.to_categorical(y_train)\n",
        "y_test = np_utils.to_categorical(y_test)\n",
        "num_classes = y_test.shape[1]\n",
        "print(y_test.shape)"
      ],
      "execution_count": 14,
      "outputs": [
        {
          "output_type": "stream",
          "text": [
            "(10000,)\n",
            "(10000, 10)\n"
          ],
          "name": "stdout"
        }
      ]
    },
    {
      "cell_type": "code",
      "metadata": {
        "id": "cLEqVDRCLKPA"
      },
      "source": [
        "from keras.models import Sequential\n",
        "from keras.layers import Dense\n"
      ],
      "execution_count": 16,
      "outputs": []
    },
    {
      "cell_type": "code",
      "metadata": {
        "id": "O_hHRF--LQmU"
      },
      "source": [
        "model = Sequential()\n",
        "model.add(Dense(32, input_dim= 28*28, activation='relu'))\n",
        "model.add(Dense(64, activation='relu'))\n",
        "model.add(Dense(10, activation='softmax'))"
      ],
      "execution_count": 18,
      "outputs": []
    },
    {
      "cell_type": "code",
      "metadata": {
        "id": "zCNEbs9DNIBb"
      },
      "source": [
        "model.compile(loss='categorical_crossentropy', optimizer='adam', metrics=['accuracy'])"
      ],
      "execution_count": 19,
      "outputs": []
    },
    {
      "cell_type": "code",
      "metadata": {
        "colab": {
          "base_uri": "https://localhost:8080/"
        },
        "id": "ynplTzJCNLwH",
        "outputId": "3da6fa0c-1e61-4510-f48c-df2be0069417"
      },
      "source": [
        "model.summary()"
      ],
      "execution_count": 21,
      "outputs": [
        {
          "output_type": "stream",
          "text": [
            "Model: \"sequential_1\"\n",
            "_________________________________________________________________\n",
            "Layer (type)                 Output Shape              Param #   \n",
            "=================================================================\n",
            "dense_3 (Dense)              (None, 32)                25120     \n",
            "_________________________________________________________________\n",
            "dense_4 (Dense)              (None, 64)                2112      \n",
            "_________________________________________________________________\n",
            "dense_5 (Dense)              (None, 10)                650       \n",
            "=================================================================\n",
            "Total params: 27,882\n",
            "Trainable params: 27,882\n",
            "Non-trainable params: 0\n",
            "_________________________________________________________________\n"
          ],
          "name": "stdout"
        }
      ]
    },
    {
      "cell_type": "code",
      "metadata": {
        "colab": {
          "base_uri": "https://localhost:8080/"
        },
        "id": "vrANU6cJPHgL",
        "outputId": "ba5a1c06-560b-4dbf-c97f-32e076aba5cd"
      },
      "source": [
        "model.fit(X_train, y_train, epochs=10,batch_size=100)"
      ],
      "execution_count": 22,
      "outputs": [
        {
          "output_type": "stream",
          "text": [
            "Epoch 1/10\n",
            "600/600 [==============================] - 2s 2ms/step - loss: 2.3018 - accuracy: 0.1131\n",
            "Epoch 2/10\n",
            "600/600 [==============================] - 1s 2ms/step - loss: 2.3016 - accuracy: 0.1102\n",
            "Epoch 3/10\n",
            "600/600 [==============================] - 1s 2ms/step - loss: 2.3014 - accuracy: 0.1122\n",
            "Epoch 4/10\n",
            "600/600 [==============================] - 1s 2ms/step - loss: 2.3007 - accuracy: 0.1145\n",
            "Epoch 5/10\n",
            "600/600 [==============================] - 1s 2ms/step - loss: 2.3007 - accuracy: 0.1120\n",
            "Epoch 6/10\n",
            "600/600 [==============================] - 1s 2ms/step - loss: 2.2994 - accuracy: 0.1120\n",
            "Epoch 7/10\n",
            "600/600 [==============================] - 1s 2ms/step - loss: 2.2897 - accuracy: 0.1311\n",
            "Epoch 8/10\n",
            "600/600 [==============================] - 1s 2ms/step - loss: 2.2455 - accuracy: 0.1849\n",
            "Epoch 9/10\n",
            "600/600 [==============================] - 1s 2ms/step - loss: 2.1580 - accuracy: 0.2204\n",
            "Epoch 10/10\n",
            "600/600 [==============================] - 1s 2ms/step - loss: 2.0602 - accuracy: 0.2499\n"
          ],
          "name": "stdout"
        },
        {
          "output_type": "execute_result",
          "data": {
            "text/plain": [
              "<tensorflow.python.keras.callbacks.History at 0x7f6f552380d0>"
            ]
          },
          "metadata": {
            "tags": []
          },
          "execution_count": 22
        }
      ]
    },
    {
      "cell_type": "code",
      "metadata": {
        "colab": {
          "base_uri": "https://localhost:8080/"
        },
        "id": "ZyQ0D0RCP_Ti",
        "outputId": "274e19b7-b0a6-4dd0-987c-22feacfe30c2"
      },
      "source": [
        "scores = model.evaluate(X_test, y_test)\n",
        "print(scores)"
      ],
      "execution_count": 23,
      "outputs": [
        {
          "output_type": "stream",
          "text": [
            "313/313 [==============================] - 0s 1ms/step - loss: 2.0014 - accuracy: 0.2505\n",
            "[2.0014426708221436, 0.25049999356269836]\n"
          ],
          "name": "stdout"
        }
      ]
    }
  ]
}